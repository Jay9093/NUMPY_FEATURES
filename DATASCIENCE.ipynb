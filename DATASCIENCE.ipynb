{
 "cells": [
  {
   "cell_type": "code",
   "execution_count": 4,
   "id": "8b18bc2c-19c7-4887-89bd-6ce31851ec2a",
   "metadata": {},
   "outputs": [],
   "source": [
    "import numpy as np"
   ]
  },
  {
   "cell_type": "code",
   "execution_count": 5,
   "id": "d3aef527-b094-46b8-8d75-5564b0b7126b",
   "metadata": {},
   "outputs": [
    {
     "name": "stdout",
     "output_type": "stream",
     "text": [
      "[1, 2, 3]\n"
     ]
    }
   ],
   "source": [
    "list1= [1,2,3]\n",
    "print(list1)"
   ]
  },
  {
   "cell_type": "code",
   "execution_count": 6,
   "id": "ae755ab7-b0f0-4e4b-935d-b6bac8b85bfc",
   "metadata": {},
   "outputs": [],
   "source": [
    "array1ay1=np.array1ay(list1)"
   ]
  },
  {
   "cell_type": "code",
   "execution_count": 7,
   "id": "3c127a4a-7199-4179-8893-247d9e2c56c0",
   "metadata": {},
   "outputs": [
    {
     "name": "stdout",
     "output_type": "stream",
     "text": [
      "[1 2 3]\n"
     ]
    }
   ],
   "source": [
    "print(array1ay1)"
   ]
  },
  {
   "cell_type": "code",
   "execution_count": 8,
   "id": "d4625e35-9b6c-45d5-a860-be6cf8338bd4",
   "metadata": {},
   "outputs": [],
   "source": [
    "array2=np.array([[1,2,3],[4,5,6]])   ##CONVERTS INTO A MULTIDIMENSTIONAL LIST"
   ]
  },
  {
   "cell_type": "code",
   "execution_count": 9,
   "id": "fd25789d-0c8a-4f05-bdb1-db95df197ccb",
   "metadata": {},
   "outputs": [
    {
     "name": "stdout",
     "output_type": "stream",
     "text": [
      "[[1 2 3]\n",
      " [4 5 6]]\n"
     ]
    }
   ],
   "source": [
    "print(array2)"
   ]
  },
  {
   "cell_type": "code",
   "execution_count": 10,
   "id": "f19ead7b-de9a-4c26-8f12-94a1cffcdbf7",
   "metadata": {},
   "outputs": [
    {
     "name": "stdout",
     "output_type": "stream",
     "text": [
      "(2, 3)\n"
     ]
    }
   ],
   "source": [
    "print(array2.shape) ###IT IS ROW,COLUMN (DIMENSIONS OF THE MATRIX)"
   ]
  },
  {
   "cell_type": "code",
   "execution_count": 11,
   "id": "000d8209-bfd9-4438-a882-e627f2ebc6f9",
   "metadata": {},
   "outputs": [
    {
     "name": "stdout",
     "output_type": "stream",
     "text": [
      "int64\n"
     ]
    }
   ],
   "source": [
    "print(array2.dtype)  #type of data in the array"
   ]
  },
  {
   "cell_type": "code",
   "execution_count": 12,
   "id": "904dbf20-1701-449b-a0a1-43b809eb9109",
   "metadata": {},
   "outputs": [
    {
     "name": "stdout",
     "output_type": "stream",
     "text": [
      "float64\n"
     ]
    }
   ],
   "source": [
    "array3 = np.array([0.2,0.3,0.4])\n",
    "print(array3.dtype)\n"
   ]
  },
  {
   "cell_type": "code",
   "execution_count": 13,
   "id": "4b6caaee-2522-4899-8469-acd95747a544",
   "metadata": {},
   "outputs": [
    {
     "name": "stdout",
     "output_type": "stream",
     "text": [
      "1\n"
     ]
    }
   ],
   "source": [
    "print(array1.ndim) #ndim gives number of rows/dimension of array"
   ]
  },
  {
   "cell_type": "code",
   "execution_count": 14,
   "id": "183f8efa-c081-490f-ab42-8efe7d546032",
   "metadata": {},
   "outputs": [
    {
     "name": "stdout",
     "output_type": "stream",
     "text": [
      "2\n"
     ]
    }
   ],
   "source": [
    "print(array2.ndim)"
   ]
  },
  {
   "cell_type": "code",
   "execution_count": 15,
   "id": "366a5c0b-f029-4f16-b81c-a5cacdbed0ad",
   "metadata": {},
   "outputs": [
    {
     "name": "stdout",
     "output_type": "stream",
     "text": [
      "8\n"
     ]
    }
   ],
   "source": [
    "print(array1.itemsize) #number of elements in the array"
   ]
  },
  {
   "cell_type": "code",
   "execution_count": 16,
   "id": "301453a2-5d30-4cf0-82b9-372cfbb807a6",
   "metadata": {},
   "outputs": [
    {
     "name": "stdout",
     "output_type": "stream",
     "text": [
      "8\n"
     ]
    }
   ],
   "source": [
    "print(array3.itemsize) #number of bytes for an element in the array (int 4, float 8, etc)."
   ]
  },
  {
   "cell_type": "code",
   "execution_count": 17,
   "id": "00c9493f-0b54-47c9-8525-46c71b5df304",
   "metadata": {},
   "outputs": [],
   "source": [
    "#you can declare dtype = int32 (then fo reach element itll be 4), int64 (each element itll be 8)"
   ]
  },
  {
   "cell_type": "code",
   "execution_count": 18,
   "id": "62e16da7-5d5c-4e05-b0cd-300ab0a2f506",
   "metadata": {},
   "outputs": [],
   "source": [
    "###ASSIGNMENT RA2211003012017 JAYASHREE MANIGANDAN - DATA SCIENCE"
   ]
  },
  {
   "cell_type": "code",
   "execution_count": 19,
   "id": "166ee403-e16e-4ce6-a97d-0c523cd44df7",
   "metadata": {},
   "outputs": [
    {
     "name": "stdout",
     "output_type": "stream",
     "text": [
      "Requirement already satisfied: numpy in c:\\users\\g3gay\\anaconda3\\lib\\site-packages (1.26.4)\n"
     ]
    }
   ],
   "source": [
    "#INSTALLING THE NUMPY PACKAGE\n",
    "!pip install numpy"
   ]
  },
  {
   "cell_type": "code",
   "execution_count": 20,
   "id": "f767795b-ed10-4393-be2b-c1b14377f419",
   "metadata": {},
   "outputs": [
    {
     "name": "stdout",
     "output_type": "stream",
     "text": [
      "Name: numpy\n",
      "Version: 1.26.4\n",
      "Summary: Fundamental package for array computing in Python\n",
      "Home-page: https://numpy.org\n",
      "Author: Travis E. Oliphant et al.\n",
      "Author-email: \n",
      "License: Copyright (c) 2005-2023, NumPy Developers.\n",
      "All rights reserved.\n",
      "\n",
      "Redistribution and use in source and binary forms, with or without\n",
      "modification, are permitted provided that the following conditions are\n",
      "met:\n",
      "\n",
      "    * Redistributions of source code must retain the above copyright\n",
      "       notice, this list of conditions and the following disclaimer.\n",
      "\n",
      "    * Redistributions in binary form must reproduce the above\n",
      "       copyright notice, this list of conditions and the following\n",
      "       disclaimer in the documentation and/or other materials provided\n",
      "       with the distribution.\n",
      "\n",
      "    * Neither the name of the NumPy Developers nor the names of any\n",
      "       contributors may be used to endorse or promote products derived\n",
      "       from this software without specific prior written permission.\n",
      "\n",
      "THIS SOFTWARE IS PROVIDED BY THE COPYRIGHT HOLDERS AND CONTRIBUTORS\n",
      "\"AS IS\" AND ANY EXPRESS OR IMPLIED WARRANTIES, INCLUDING, BUT NOT\n",
      "LIMITED TO, THE IMPLIED WARRANTIES OF MERCHANTABILITY AND FITNESS FOR\n",
      "A PARTICULAR PURPOSE ARE DISCLAIMED. IN NO EVENT SHALL THE COPYRIGHT\n",
      "OWNER OR CONTRIBUTORS BE LIABLE FOR ANY DIRECT, INDIRECT, INCIDENTAL,\n",
      "SPECIAL, EXEMPLARY, OR CONSEQUENTIAL DAMAGES (INCLUDING, BUT NOT\n",
      "LIMITED TO, PROCUREMENT OF SUBSTITUTE GOODS OR SERVICES; LOSS OF USE,\n",
      "DATA, OR PROFITS; OR BUSINESS INTERRUPTION) HOWEVER CAUSED AND ON ANY\n",
      "THEORY OF LIABILITY, WHETHER IN CONTRACT, STRICT LIABILITY, OR TORT\n",
      "(INCLUDING NEGLIGENCE OR OTHERWISE) ARISING IN ANY WAY OUT OF THE USE\n",
      "OF THIS SOFTWARE, EVEN IF ADVISED OF THE POSSIBILITY OF SUCH DAMAGE.\n",
      "Location: C:\\Users\\g3gay\\anaconda3\\Lib\\site-packages\n",
      "Requires: \n",
      "Required-by: altair, astropy, bokeh, Bottleneck, Cartopy, contourpy, datashader, gensim, h5py, holoviews, hvplot, imagecodecs, imageio, imbalanced-learn, matplotlib, mkl-fft, mkl-random, numba, numexpr, opencv-python, pandas, patsy, pyarrow, pydeck, pyerfa, pywavelets, scikit-image, scikit-learn, scipy, seaborn, shapely, statsmodels, streamlit, tables, tifffile, torchvision, ultralytics, ultralytics-thop, xarray\n"
     ]
    }
   ],
   "source": [
    "#PRINTING THE VERSION OF NUMPY\n",
    "!pip show numpy"
   ]
  },
  {
   "cell_type": "code",
   "execution_count": 21,
   "id": "553879bd-a89b-4677-89ad-0f262cf96623",
   "metadata": {},
   "outputs": [],
   "source": [
    "#IMPORTING\n",
    "import numpy as np"
   ]
  },
  {
   "cell_type": "code",
   "execution_count": 22,
   "id": "3f986ec9-2077-48ac-ab09-62b7659a6306",
   "metadata": {},
   "outputs": [],
   "source": [
    "#CREATING THE 3D AND 4D LISTS\n",
    "list_1 = [[[1, 2, 3], [4, 5, 6], [7, 8, 9]], [[10, 11, 12], [13, 14, 15], [16, 17, 18]], [[19, 20, 21], [22, 23, 24], [25, 26, 27]]]"
   ]
  },
  {
   "cell_type": "code",
   "execution_count": 23,
   "id": "4791a171-5024-4272-bdae-bc4043fadb01",
   "metadata": {},
   "outputs": [],
   "source": [
    "list_2 = [[[[1.0, 2.0], [3.0, 4.0]], [[5.0, 6.0], [7.0, 8.0]]], [[[9.0, 10.0], [11.0, 12.0]], [[13.0, 14.0], [15.0, 16.0]]], \n",
    "          [[[17.0, 18.0], [19.0, 20.0]], [[21.0, 22.0], [23.0, 24.0]]]]"
   ]
  },
  {
   "cell_type": "code",
   "execution_count": 24,
   "id": "f71927b8-3c24-48d2-a4b8-018913a62201",
   "metadata": {},
   "outputs": [],
   "source": [
    "#CREATING THE ARRAYS\n",
    "array1=np.array(list_1)"
   ]
  },
  {
   "cell_type": "code",
   "execution_count": 25,
   "id": "6b733b71-cb6e-43fc-80db-76974c7fb1f6",
   "metadata": {},
   "outputs": [],
   "source": [
    "array2=np.array(list_2)"
   ]
  },
  {
   "cell_type": "code",
   "execution_count": 26,
   "id": "57056220-e828-4d82-bc3a-7cf3bbe90c2f",
   "metadata": {},
   "outputs": [
    {
     "name": "stdout",
     "output_type": "stream",
     "text": [
      "Array 1 has the following axes: \n",
      "Axis 0: Size 3\n",
      "Axis 1: Size 3\n",
      "Axis 2: Size 3\n",
      "Array 2 has the following axes: \n",
      "Axis 0: Size 3\n",
      "Axis 1: Size 2\n",
      "Axis 2: Size 2\n",
      "Axis 3: Size 2\n"
     ]
    }
   ],
   "source": [
    "#AXIS\n",
    "print(\"Array 1 has the following axes: \")\n",
    "for i in range(len(array1.shape)):\n",
    "    print(f\"Axis {i}: Size {array1.shape[i]}\")\n",
    "\n",
    "print(\"Array 2 has the following axes: \")\n",
    "for i in range(len(array2.shape)):\n",
    "    print(f\"Axis {i}: Size {array2.shape[i]}\")"
   ]
  },
  {
   "cell_type": "code",
   "execution_count": 27,
   "id": "67bda2af-8d77-4f7e-8128-96b523bfe66a",
   "metadata": {},
   "outputs": [
    {
     "name": "stdout",
     "output_type": "stream",
     "text": [
      "The shape of array 1 is:  (3, 3, 3)\n",
      "The shape of array 2 is:  (3, 2, 2, 2)\n"
     ]
    }
   ],
   "source": [
    "#SHAPE\n",
    "print(\"The shape of array 1 is: \",array1.shape)\n",
    "print(\"The shape of array 2 is: \",array2.shape)"
   ]
  },
  {
   "cell_type": "code",
   "execution_count": 28,
   "id": "ab56ae09-b4c7-42bd-9369-4279daa58b88",
   "metadata": {},
   "outputs": [
    {
     "name": "stdout",
     "output_type": "stream",
     "text": [
      "The rank and dimension of array 1 is:  3\n",
      "The rank and dimension of array 2 is:  4\n"
     ]
    }
   ],
   "source": [
    "#NDIM and RANK\n",
    "print(\"The rank and dimension of array 1 is: \",array1.ndim)\n",
    "print(\"The rank and dimension of array 2 is: \",array2.ndim)"
   ]
  },
  {
   "cell_type": "code",
   "execution_count": 29,
   "id": "353e60a7-7f42-4135-824d-adcdcfa65d8e",
   "metadata": {},
   "outputs": [
    {
     "name": "stdout",
     "output_type": "stream",
     "text": [
      "The datatype of array1 is:  int64\n",
      "The datatype of array2 is:  float64\n"
     ]
    }
   ],
   "source": [
    "#DATATYPE\n",
    "print(\"The datatype of array1 is: \",array1.dtype)\n",
    "print(\"The datatype of array2 is: \",array2.dtype)"
   ]
  },
  {
   "cell_type": "code",
   "execution_count": 30,
   "id": "63c7b53a-bb18-483b-a1ee-65cd372f9a5e",
   "metadata": {},
   "outputs": [
    {
     "name": "stdout",
     "output_type": "stream",
     "text": [
      "The data attribute of array 1 is:  <memory at 0x0000017095B84F40>\n",
      "The data attribute of array 2 is:  <memory at 0x000001709545A740>\n"
     ]
    }
   ],
   "source": [
    "#DATA ATTRIBUTE \n",
    "print(\"The data attribute of array 1 is: \",array1.data)\n",
    "print(\"The data attribute of array 2 is: \",array2.data)"
   ]
  },
  {
   "cell_type": "code",
   "execution_count": 31,
   "id": "101a6acc-1190-4203-8403-b4087336dc22",
   "metadata": {},
   "outputs": [
    {
     "name": "stdout",
     "output_type": "stream",
     "text": [
      "The size of array 1 is:  27\n",
      "The size of array 2 is:  24\n"
     ]
    }
   ],
   "source": [
    "#SIZE\n",
    "print(\"The size of array 1 is: \",array1.size)\n",
    "print(\"The size of array 2 is: \",array2.size)"
   ]
  },
  {
   "cell_type": "code",
   "execution_count": 32,
   "id": "cfec8a45-ed1e-4424-92f9-798db686585e",
   "metadata": {},
   "outputs": [
    {
     "name": "stdout",
     "output_type": "stream",
     "text": [
      "The itemsize is:  8\n",
      "The itemsize is:  8\n"
     ]
    }
   ],
   "source": [
    "#ITEMSIZE\n",
    "print(\"The itemsize is: \",array1.itemsize)\n",
    "print(\"The itemsize is: \",array2.itemsize)"
   ]
  },
  {
   "cell_type": "code",
   "execution_count": 33,
   "id": "539dc4f3-0bb0-44cf-85f4-2ad46ebd48cb",
   "metadata": {},
   "outputs": [
    {
     "name": "stdout",
     "output_type": "stream",
     "text": [
      "Requirement already satisfied: cartopy in c:\\users\\g3gay\\anaconda3\\lib\\site-packages (0.24.1)\n",
      "Requirement already satisfied: numpy>=1.23 in c:\\users\\g3gay\\anaconda3\\lib\\site-packages (from cartopy) (1.26.4)\n",
      "Requirement already satisfied: matplotlib>=3.6 in c:\\users\\g3gay\\anaconda3\\lib\\site-packages (from cartopy) (3.8.4)\n",
      "Requirement already satisfied: shapely>=1.8 in c:\\users\\g3gay\\anaconda3\\lib\\site-packages (from cartopy) (2.0.7)\n",
      "Requirement already satisfied: packaging>=21 in c:\\users\\g3gay\\anaconda3\\lib\\site-packages (from cartopy) (23.2)\n",
      "Requirement already satisfied: pyshp>=2.3 in c:\\users\\g3gay\\anaconda3\\lib\\site-packages (from cartopy) (2.3.1)\n",
      "Requirement already satisfied: pyproj>=3.3.1 in c:\\users\\g3gay\\anaconda3\\lib\\site-packages (from cartopy) (3.7.0)\n",
      "Requirement already satisfied: contourpy>=1.0.1 in c:\\users\\g3gay\\anaconda3\\lib\\site-packages (from matplotlib>=3.6->cartopy) (1.2.0)\n",
      "Requirement already satisfied: cycler>=0.10 in c:\\users\\g3gay\\anaconda3\\lib\\site-packages (from matplotlib>=3.6->cartopy) (0.11.0)\n",
      "Requirement already satisfied: fonttools>=4.22.0 in c:\\users\\g3gay\\anaconda3\\lib\\site-packages (from matplotlib>=3.6->cartopy) (4.51.0)\n",
      "Requirement already satisfied: kiwisolver>=1.3.1 in c:\\users\\g3gay\\anaconda3\\lib\\site-packages (from matplotlib>=3.6->cartopy) (1.4.4)\n",
      "Requirement already satisfied: pillow>=8 in c:\\users\\g3gay\\anaconda3\\lib\\site-packages (from matplotlib>=3.6->cartopy) (10.3.0)\n",
      "Requirement already satisfied: pyparsing>=2.3.1 in c:\\users\\g3gay\\anaconda3\\lib\\site-packages (from matplotlib>=3.6->cartopy) (3.0.9)\n",
      "Requirement already satisfied: python-dateutil>=2.7 in c:\\users\\g3gay\\anaconda3\\lib\\site-packages (from matplotlib>=3.6->cartopy) (2.9.0.post0)\n",
      "Requirement already satisfied: certifi in c:\\users\\g3gay\\anaconda3\\lib\\site-packages (from pyproj>=3.3.1->cartopy) (2024.6.2)\n",
      "Requirement already satisfied: six>=1.5 in c:\\users\\g3gay\\anaconda3\\lib\\site-packages (from python-dateutil>=2.7->matplotlib>=3.6->cartopy) (1.16.0)\n"
     ]
    }
   ],
   "source": [
    "!pip install cartopy"
   ]
  },
  {
   "cell_type": "code",
   "execution_count": 34,
   "id": "6ff8b30e-4fbf-473d-8cd0-e5b19c56498c",
   "metadata": {},
   "outputs": [
    {
     "name": "stdout",
     "output_type": "stream",
     "text": [
      "Name: Cartopy\n",
      "Version: 0.24.1\n",
      "Summary: A Python library for cartographic visualizations with Matplotlib\n",
      "Home-page: \n",
      "Author: UK Met Office\n",
      "Author-email: \n",
      "License: BSD 3-Clause License\n",
      "\n",
      "Copyright (c) Crown and Cartopy contributors.\n",
      "All rights reserved.\n",
      "\n",
      "Redistribution and use in source and binary forms, with or without\n",
      "modification, are permitted provided that the following conditions are met:\n",
      "\n",
      "1. Redistributions of source code must retain the above copyright notice, this\n",
      "   list of conditions and the following disclaimer.\n",
      "\n",
      "2. Redistributions in binary form must reproduce the above copyright notice,\n",
      "   this list of conditions and the following disclaimer in the documentation\n",
      "   and/or other materials provided with the distribution.\n",
      "\n",
      "3. Neither the name of the copyright holder nor the names of its\n",
      "   contributors may be used to endorse or promote products derived from\n",
      "   this software without specific prior written permission.\n",
      "\n",
      "THIS SOFTWARE IS PROVIDED BY THE COPYRIGHT HOLDERS AND CONTRIBUTORS \"AS IS\"\n",
      "AND ANY EXPRESS OR IMPLIED WARRANTIES, INCLUDING, BUT NOT LIMITED TO, THE\n",
      "IMPLIED WARRANTIES OF MERCHANTABILITY AND FITNESS FOR A PARTICULAR PURPOSE ARE\n",
      "DISCLAIMED. IN NO EVENT SHALL THE COPYRIGHT HOLDER OR CONTRIBUTORS BE LIABLE\n",
      "FOR ANY DIRECT, INDIRECT, INCIDENTAL, SPECIAL, EXEMPLARY, OR CONSEQUENTIAL\n",
      "DAMAGES (INCLUDING, BUT NOT LIMITED TO, PROCUREMENT OF SUBSTITUTE GOODS OR\n",
      "SERVICES; LOSS OF USE, DATA, OR PROFITS; OR BUSINESS INTERRUPTION) HOWEVER\n",
      "CAUSED AND ON ANY THEORY OF LIABILITY, WHETHER IN CONTRACT, STRICT LIABILITY,\n",
      "OR TORT (INCLUDING NEGLIGENCE OR OTHERWISE) ARISING IN ANY WAY OUT OF THE USE\n",
      "OF THIS SOFTWARE, EVEN IF ADVISED OF THE POSSIBILITY OF SUCH DAMAGE.\n",
      "\n",
      "Location: C:\\Users\\g3gay\\anaconda3\\Lib\\site-packages\n",
      "Requires: matplotlib, numpy, packaging, pyproj, pyshp, shapely\n",
      "Required-by: \n"
     ]
    }
   ],
   "source": [
    "!pip show cartopy"
   ]
  },
  {
   "cell_type": "code",
   "execution_count": 37,
   "id": "89884a07-fa48-45eb-a9ee-fce3a307007f",
   "metadata": {},
   "outputs": [
    {
     "name": "stdout",
     "output_type": "stream",
     "text": [
      "[[[ 1  2  3]\n",
      "  [ 4  5  6]\n",
      "  [ 7  8  9]]\n",
      "\n",
      " [[10 11 12]\n",
      "  [13 14 15]\n",
      "  [16 17 18]]\n",
      "\n",
      " [[19 20 21]\n",
      "  [22 23 24]\n",
      "  [25 26 27]]]\n",
      "[[1 2 3]\n",
      " [4 5 6]\n",
      " [7 8 9]]\n",
      "[[29 31 33]\n",
      " [35 37 39]\n",
      " [41 43 45]]\n",
      "2nd element on 1st row:  [4 5 6]\n",
      "1st element in 1st row:  1\n",
      "4th element in 2nd row:  4\n",
      "5th element in 2nd row:  5\n",
      "6th element in 2nd row:  6\n",
      "[[[[ 1.  2.]\n",
      "   [ 3.  4.]]\n",
      "\n",
      "  [[ 5.  6.]\n",
      "   [ 7.  8.]]]\n",
      "\n",
      "\n",
      " [[[ 9. 10.]\n",
      "   [11. 12.]]\n",
      "\n",
      "  [[13. 14.]\n",
      "   [15. 16.]]]\n",
      "\n",
      "\n",
      " [[[17. 18.]\n",
      "   [19. 20.]]\n",
      "\n",
      "  [[21. 22.]\n",
      "   [23. 24.]]]]\n",
      "Last element from 1st dim:  [[5. 6.]\n",
      " [7. 8.]]\n",
      "Last element from 2nd dim:  [[13. 14.]\n",
      " [15. 16.]]\n"
     ]
    }
   ],
   "source": [
    "###Operation - 1 ARRAY INDEXING\n",
    "\n",
    "print(array1)\n",
    "print(array1[0])\n",
    "print(array1[1]+array1[2])\n",
    "\n",
    "print('2nd element on 1st row: ', array1[0, 1])\n",
    "print('1st element in 1st row: ', array1[0, 0, 0])\n",
    "print('4th element in 2nd row: ', array1[0, 1, 0])\n",
    "print('5th element in 2nd row: ', array1[0, 1, 1])\n",
    "print('6th element in 2nd row: ', array1[0, 1, 2])\n",
    "\n",
    "##Negative indexing\n",
    "print(array2)\n",
    "print('Last element from 1st dim: ', array2[0, -1])\n",
    "print('Last element from 2nd dim: ', array2[1, -1])\n",
    "\n"
   ]
  },
  {
   "cell_type": "code",
   "execution_count": 41,
   "id": "506d7e85-e649-410d-8153-c6b54f4a9d08",
   "metadata": {},
   "outputs": [
    {
     "name": "stdout",
     "output_type": "stream",
     "text": [
      "\n",
      "Slice elements from index 1 to index 2 from the array: [[[10 11 12]\n",
      "  [13 14 15]\n",
      "  [16 17 18]]]\n",
      "Slice elements from index 1 to index 3 from the array: [[[10 11 12]\n",
      "  [13 14 15]\n",
      "  [16 17 18]]\n",
      "\n",
      " [[19 20 21]\n",
      "  [22 23 24]\n",
      "  [25 26 27]]]\n",
      "Slice elements from index 1 to index 4 from the array: [[[10 11 12]\n",
      "  [13 14 15]\n",
      "  [16 17 18]]\n",
      "\n",
      " [[19 20 21]\n",
      "  [22 23 24]\n",
      "  [25 26 27]]]\n",
      "\n",
      "Slice elements from index 0 to the end of the array: [[[ 1  2  3]\n",
      "  [ 4  5  6]\n",
      "  [ 7  8  9]]\n",
      "\n",
      " [[10 11 12]\n",
      "  [13 14 15]\n",
      "  [16 17 18]]\n",
      "\n",
      " [[19 20 21]\n",
      "  [22 23 24]\n",
      "  [25 26 27]]]\n",
      "Slice elements from index 1 to the end of the array: [[[10 11 12]\n",
      "  [13 14 15]\n",
      "  [16 17 18]]\n",
      "\n",
      " [[19 20 21]\n",
      "  [22 23 24]\n",
      "  [25 26 27]]]\n",
      "Slice elements from index 2 to the end of the array: [[[19 20 21]\n",
      "  [22 23 24]\n",
      "  [25 26 27]]]\n",
      "\n",
      "Slice elements from the beginning to index 0 (not included): []\n",
      "Slice elements from the beginning to index 1 (not included): [[[1 2 3]\n",
      "  [4 5 6]\n",
      "  [7 8 9]]]\n",
      "Slice elements from the beginning to index 2 (not included): [[[ 1  2  3]\n",
      "  [ 4  5  6]\n",
      "  [ 7  8  9]]\n",
      "\n",
      " [[10 11 12]\n",
      "  [13 14 15]\n",
      "  [16 17 18]]]\n",
      "Slice elements from the beginning to index 3 (not included): [[[ 1  2  3]\n",
      "  [ 4  5  6]\n",
      "  [ 7  8  9]]\n",
      "\n",
      " [[10 11 12]\n",
      "  [13 14 15]\n",
      "  [16 17 18]]\n",
      "\n",
      " [[19 20 21]\n",
      "  [22 23 24]\n",
      "  [25 26 27]]]\n",
      "\n",
      "Slice from the index 3 from the end to index 1 from the end: [[[ 1  2  3]\n",
      "  [ 4  5  6]\n",
      "  [ 7  8  9]]\n",
      "\n",
      " [[10 11 12]\n",
      "  [13 14 15]\n",
      "  [16 17 18]]]\n",
      "\n",
      "Return every other element from index 1 to index 5: [[[10 11 12]\n",
      "  [13 14 15]\n",
      "  [16 17 18]]]\n",
      "Return every other element from the entire array: [[[ 1  2  3]\n",
      "  [ 4  5  6]\n",
      "  [ 7  8  9]]\n",
      "\n",
      " [[19 20 21]\n",
      "  [22 23 24]\n",
      "  [25 26 27]]]\n"
     ]
    }
   ],
   "source": [
    "###Operation 2 Array slicing\n",
    "\n",
    "import numpy as np\n",
    "arr = array1\n",
    "\n",
    "print(\"\\nSlice elements from index 1 to index 2 from the array:\",arr[1:2])\n",
    "print(\"Slice elements from index 1 to index 3 from the array:\",arr[1:3])\n",
    "print(\"Slice elements from index 1 to index 4 from the array:\",arr[1:4])\n",
    "\n",
    "print(\"\\nSlice elements from index 0 to the end of the array:\",arr[0:])\n",
    "print(\"Slice elements from index 1 to the end of the array:\",arr[1:])\n",
    "print(\"Slice elements from index 2 to the end of the array:\",arr[2:])\n",
    "\n",
    "print(\"\\nSlice elements from the beginning to index 0 (not included):\",arr[:0])\n",
    "print(\"Slice elements from the beginning to index 1 (not included):\",arr[:1])\n",
    "print(\"Slice elements from the beginning to index 2 (not included):\",arr[:2])\n",
    "print(\"Slice elements from the beginning to index 3 (not included):\",arr[:3])\n",
    "\n",
    "\n",
    "###Negative Slicing-Use the minus operator to refer to an index from the end:\n",
    "print(\"\\nSlice from the index 3 from the end to index 1 from the end:\",arr[-3:-1])\n",
    "\n",
    "\n",
    "###STEP-Use the step value to determine the step of the slicing:\n",
    "print(\"\\nReturn every other element from index 1 to index 5:\",arr[1:5:2])\n",
    "print(\"Return every other element from the entire array:\", arr[::2])\n"
   ]
  },
  {
   "cell_type": "code",
   "execution_count": 47,
   "id": "f997cbd2-8586-491c-8d74-09a0c19e062e",
   "metadata": {},
   "outputs": [
    {
     "name": "stdout",
     "output_type": "stream",
     "text": [
      "Iterate on the elements of the following 3-D array: [[1 2 3]\n",
      " [4 5 6]]\n",
      "Iterate on the elements of the following 3-D array: [[ 7  8  9]\n",
      " [10 11 12]]\n",
      "1\n",
      "2\n",
      "3\n",
      "4\n",
      "5\n",
      "6\n",
      "7\n",
      "8\n",
      "9\n",
      "10\n",
      "11\n",
      "12\n"
     ]
    }
   ],
   "source": [
    "###Operation 3 Array iteration\n",
    "\n",
    "array_3 = np.array([[[1, 2, 3], [4, 5, 6]], [[7, 8, 9], [10, 11, 12]]])\n",
    "for x in array_3:\n",
    "  print(\"Iterate on the elements of the following 3-D array:\",x)\n",
    "for x in array_3:\n",
    "    for y in x:\n",
    "        for z in y:\n",
    "            print(z)"
   ]
  },
  {
   "cell_type": "code",
   "execution_count": 48,
   "id": "ef7594fa-61f7-407d-ad49-164cab3df7b3",
   "metadata": {},
   "outputs": [
    {
     "name": "stdout",
     "output_type": "stream",
     "text": [
      "1.0\n",
      "2.0\n",
      "3.0\n",
      "4.0\n",
      "5.0\n",
      "6.0\n",
      "7.0\n",
      "8.0\n",
      "9.0\n",
      "10.0\n",
      "11.0\n",
      "12.0\n",
      "13.0\n",
      "14.0\n",
      "15.0\n",
      "16.0\n",
      "17.0\n",
      "18.0\n",
      "19.0\n",
      "20.0\n",
      "21.0\n",
      "22.0\n",
      "23.0\n",
      "24.0\n"
     ]
    }
   ],
   "source": [
    "array_4 = np.array([[[[1.0, 2.0], [3.0, 4.0]], [[5.0, 6.0], [7.0, 8.0]]], [[[9.0, 10.0], [11.0, 12.0]], [[13.0, 14.0], [15.0, 16.0]]], \n",
    "          [[[17.0, 18.0], [19.0, 20.0]], [[21.0, 22.0], [23.0, 24.0]]]])\n",
    "for x in array_4:\n",
    "    for y in x:\n",
    "        for z in y:\n",
    "            for j in z:\n",
    "                print(j)"
   ]
  },
  {
   "cell_type": "code",
   "execution_count": 49,
   "id": "72f825ae-d3c8-435b-92d8-a503c12148f6",
   "metadata": {},
   "outputs": [
    {
     "name": "stdout",
     "output_type": "stream",
     "text": [
      "[[[[ 1.  2.]\n",
      "   [ 3.  4.]]\n",
      "\n",
      "  [[ 5.  6.]\n",
      "   [ 7.  8.]]]\n",
      "\n",
      "\n",
      " [[[ 9. 10.]\n",
      "   [11. 12.]]\n",
      "\n",
      "  [[13. 14.]\n",
      "   [15. 16.]]]\n",
      "\n",
      "\n",
      " [[[17. 18.]\n",
      "   [19. 20.]]\n",
      "\n",
      "  [[21. 22.]\n",
      "   [23. 24.]]]]\n",
      "[[[[ 1.  2.]\n",
      "   [ 3.  4.]]\n",
      "\n",
      "  [[ 5.  6.]\n",
      "   [ 7.  8.]]]\n",
      "\n",
      "\n",
      " [[[ 9. 10.]\n",
      "   [11. 12.]]\n",
      "\n",
      "  [[13. 14.]\n",
      "   [15. 16.]]]\n",
      "\n",
      "\n",
      " [[[17. 18.]\n",
      "   [19. 20.]]\n",
      "\n",
      "  [[21. 22.]\n",
      "   [23. 24.]]]]\n"
     ]
    }
   ],
   "source": [
    "###Operation 4 - Array copying\n",
    "print(array_4)\n",
    "x1 = array_4.copy()\n",
    "print(x1)"
   ]
  },
  {
   "cell_type": "code",
   "execution_count": 60,
   "id": "916430b1-2091-40bc-890f-7ef7a93beb59",
   "metadata": {},
   "outputs": [
    {
     "name": "stdout",
     "output_type": "stream",
     "text": [
      "Original 3D Array:\n",
      " [[[37 79 21]\n",
      "  [43 83 63]\n",
      "  [83  5 36]]\n",
      "\n",
      " [[77 25  5]\n",
      "  [22  2 90]\n",
      "  [15 54 86]]\n",
      "\n",
      " [[68 45 70]\n",
      "  [43  4 71]\n",
      "  [64  6  6]]]\n",
      "Sorted 3D Array:\n",
      " [[[21 37 79]\n",
      "  [43 63 83]\n",
      "  [ 5 36 83]]\n",
      "\n",
      " [[ 5 25 77]\n",
      "  [ 2 22 90]\n",
      "  [15 54 86]]\n",
      "\n",
      " [[45 68 70]\n",
      "  [ 4 43 71]\n",
      "  [ 6  6 64]]]\n",
      "Original 4D Array:\n",
      " [[[[44 82 62]\n",
      "   [ 4 49 42]\n",
      "   [ 9 72 78]]\n",
      "\n",
      "  [[37  6 71]\n",
      "   [12 75 66]\n",
      "   [23 79 78]]\n",
      "\n",
      "  [[42 74 94]\n",
      "   [61 66 58]\n",
      "   [37 57 44]]]\n",
      "\n",
      "\n",
      " [[[15 60 31]\n",
      "   [54  4 72]\n",
      "   [16 64 26]]\n",
      "\n",
      "  [[ 5 79 35]\n",
      "   [52 32 20]\n",
      "   [23 88 53]]\n",
      "\n",
      "  [[71 54  2]\n",
      "   [84 90 36]\n",
      "   [10 84 33]]]]\n",
      "Sorted 4D Array:\n",
      " [[[[44 62 82]\n",
      "   [ 4 42 49]\n",
      "   [ 9 72 78]]\n",
      "\n",
      "  [[ 6 37 71]\n",
      "   [12 66 75]\n",
      "   [23 78 79]]\n",
      "\n",
      "  [[42 74 94]\n",
      "   [58 61 66]\n",
      "   [37 44 57]]]\n",
      "\n",
      "\n",
      " [[[15 31 60]\n",
      "   [ 4 54 72]\n",
      "   [16 26 64]]\n",
      "\n",
      "  [[ 5 35 79]\n",
      "   [20 32 52]\n",
      "   [23 53 88]]\n",
      "\n",
      "  [[ 2 54 71]\n",
      "   [36 84 90]\n",
      "   [10 33 84]]]]\n"
     ]
    }
   ],
   "source": [
    "# Creating a 3D array\n",
    "array_3d = np.random.randint(1, 100, (3, 3, 3))\n",
    "# Creating a 4D array\n",
    "array_4d = np.random.randint(1, 100, (2, 3, 3, 3))\n",
    "\n",
    "# Sorting a numpy array\n",
    "sorted_3d = np.sort(array_3d, axis=-1)\n",
    "sorted_4d = np.sort(array_4d, axis=-1)\n",
    "\n",
    "print(\"Original 3D Array:\\n\", array_3d)\n",
    "print(\"Sorted 3D Array:\\n\", sorted_3d)\n",
    "\n",
    "print(\"Original 4D Array:\\n\", array_4d)\n",
    "print(\"Sorted 4D Array:\\n\", sorted_4d)\n"
   ]
  },
  {
   "cell_type": "code",
   "execution_count": 61,
   "id": "1f1928ba-efb8-4436-911c-7ac0b96b9e53",
   "metadata": {},
   "outputs": [
    {
     "name": "stdout",
     "output_type": "stream",
     "text": [
      "Indices of elements > 50 in 3D Array:\n",
      " (array([0, 0, 0, 0, 1, 1, 1, 1, 2, 2, 2, 2]), array([0, 1, 1, 2, 0, 1, 2, 2, 0, 0, 1, 2]), array([1, 1, 2, 0, 0, 2, 1, 2, 0, 2, 2, 0]))\n",
      "Searchsorted index in 3D array:\n",
      " 15\n",
      "Indices of elements > 50 in 4D Array:\n",
      " (array([0, 0, 0, 0, 0, 0, 0, 0, 0, 0, 0, 0, 0, 0, 0, 1, 1, 1, 1, 1, 1, 1,\n",
      "       1, 1, 1, 1, 1, 1]), array([0, 0, 0, 0, 1, 1, 1, 1, 1, 2, 2, 2, 2, 2, 2, 0, 0, 0, 0, 1, 1, 1,\n",
      "       1, 2, 2, 2, 2, 2]), array([0, 0, 2, 2, 0, 1, 1, 2, 2, 0, 0, 1, 1, 1, 2, 0, 1, 1, 2, 0, 1, 2,\n",
      "       2, 0, 0, 1, 1, 2]), array([1, 2, 1, 2, 2, 1, 2, 1, 2, 1, 2, 0, 1, 2, 1, 1, 0, 2, 1, 1, 0, 1,\n",
      "       2, 0, 1, 0, 1, 1]))\n",
      "Searchsorted index in 4D array:\n",
      " 26\n"
     ]
    }
   ],
   "source": [
    "# Searching a numpy array (where and searchsorted)\n",
    "search_val = 50\n",
    "indices_3d = np.where(array_3d > search_val)\n",
    "indices_4d = np.where(array_4d > search_val)\n",
    "\n",
    "# Using searchsorted (for 1D slices of 3D and 4D arrays)\n",
    "sorted_1d_3d = np.sort(array_3d.flatten())\n",
    "search_index_3d = np.searchsorted(sorted_1d_3d, search_val)\n",
    "\n",
    "sorted_1d_4d = np.sort(array_4d.flatten())\n",
    "search_index_4d = np.searchsorted(sorted_1d_4d, search_val)\n",
    "\n",
    "print(\"Indices of elements > 50 in 3D Array:\\n\", indices_3d)\n",
    "print(\"Searchsorted index in 3D array:\\n\", search_index_3d)\n",
    "print(\"Indices of elements > 50 in 4D Array:\\n\", indices_4d)\n",
    "print(\"Searchsorted index in 4D array:\\n\", search_index_4d)\n"
   ]
  },
  {
   "cell_type": "code",
   "execution_count": 62,
   "id": "7c57580b-fe87-45cb-add9-6a676787525f",
   "metadata": {},
   "outputs": [
    {
     "name": "stdout",
     "output_type": "stream",
     "text": [
      "Split 3D Array:\n",
      " [array([[[37, 79, 21],\n",
      "        [43, 83, 63],\n",
      "        [83,  5, 36]]], dtype=int32), array([[[77, 25,  5],\n",
      "        [22,  2, 90],\n",
      "        [15, 54, 86]]], dtype=int32), array([[[68, 45, 70],\n",
      "        [43,  4, 71],\n",
      "        [64,  6,  6]]], dtype=int32)]\n",
      "Split 4D Array:\n",
      " [array([[[[44, 82, 62],\n",
      "         [ 4, 49, 42],\n",
      "         [ 9, 72, 78]],\n",
      "\n",
      "        [[37,  6, 71],\n",
      "         [12, 75, 66],\n",
      "         [23, 79, 78]],\n",
      "\n",
      "        [[42, 74, 94],\n",
      "         [61, 66, 58],\n",
      "         [37, 57, 44]]]], dtype=int32), array([[[[15, 60, 31],\n",
      "         [54,  4, 72],\n",
      "         [16, 64, 26]],\n",
      "\n",
      "        [[ 5, 79, 35],\n",
      "         [52, 32, 20],\n",
      "         [23, 88, 53]],\n",
      "\n",
      "        [[71, 54,  2],\n",
      "         [84, 90, 36],\n",
      "         [10, 84, 33]]]], dtype=int32)]\n"
     ]
    }
   ],
   "source": [
    "\n",
    "# Splitting a numpy array\n",
    "split_3d = np.split(array_3d, 3, axis=0)\n",
    "split_4d = np.split(array_4d, 2, axis=0)\n",
    "print(\"Split 3D Array:\\n\", split_3d)\n",
    "print(\"Split 4D Array:\\n\", split_4d)"
   ]
  },
  {
   "cell_type": "code",
   "execution_count": 63,
   "id": "034c119b-b1c5-46ea-b51c-a95a80c99ac1",
   "metadata": {},
   "outputs": [
    {
     "name": "stdout",
     "output_type": "stream",
     "text": [
      "Stacked 3D Array along axis 0:\n",
      " [[[[37 79 21]\n",
      "   [43 83 63]\n",
      "   [83  5 36]]]\n",
      "\n",
      "\n",
      " [[[77 25  5]\n",
      "   [22  2 90]\n",
      "   [15 54 86]]]\n",
      "\n",
      "\n",
      " [[[68 45 70]\n",
      "   [43  4 71]\n",
      "   [64  6  6]]]]\n",
      "Stacked 4D Array along axis 0:\n",
      " [[[[[44 82 62]\n",
      "    [ 4 49 42]\n",
      "    [ 9 72 78]]\n",
      "\n",
      "   [[37  6 71]\n",
      "    [12 75 66]\n",
      "    [23 79 78]]\n",
      "\n",
      "   [[42 74 94]\n",
      "    [61 66 58]\n",
      "    [37 57 44]]]]\n",
      "\n",
      "\n",
      "\n",
      " [[[[15 60 31]\n",
      "    [54  4 72]\n",
      "    [16 64 26]]\n",
      "\n",
      "   [[ 5 79 35]\n",
      "    [52 32 20]\n",
      "    [23 88 53]]\n",
      "\n",
      "   [[71 54  2]\n",
      "    [84 90 36]\n",
      "    [10 84 33]]]]]\n"
     ]
    }
   ],
   "source": [
    "\n",
    "# Array joining using stack functions (row, column stack)\n",
    "stacked_3d_axis0 = np.stack(split_3d, axis=0)\n",
    "stacked_4d_axis0 = np.stack(split_4d, axis=0)\n",
    "\n",
    "row_stack_3d = np.hstack(array_3d)\n",
    "row_stack_4d = np.hstack(array_4d)\n",
    "\n",
    "column_stack_3d = np.vstack(array_3d)\n",
    "column_stack_4d = np.vstack(array_4d)\n",
    "print(\"Stacked 3D Array along axis 0:\\n\", stacked_3d_axis0)\n",
    "\n",
    "print(\"Stacked 4D Array along axis 0:\\n\", stacked_4d_axis0)\n"
   ]
  },
  {
   "cell_type": "code",
   "execution_count": 64,
   "id": "9f2ca4af-da2a-4868-aa0a-f9d98467bc30",
   "metadata": {},
   "outputs": [
    {
     "name": "stdout",
     "output_type": "stream",
     "text": [
      "Copied 3D Array:\n",
      " [[[37 79 21]\n",
      "  [43 83 63]\n",
      "  [83  5 36]]\n",
      "\n",
      " [[77 25  5]\n",
      "  [22  2 90]\n",
      "  [15 54 86]]\n",
      "\n",
      " [[68 45 70]\n",
      "  [43  4 71]\n",
      "  [64  6  6]]]\n",
      "Copied 4D Array:\n",
      " [[[[44 82 62]\n",
      "   [ 4 49 42]\n",
      "   [ 9 72 78]]\n",
      "\n",
      "  [[37  6 71]\n",
      "   [12 75 66]\n",
      "   [23 79 78]]\n",
      "\n",
      "  [[42 74 94]\n",
      "   [61 66 58]\n",
      "   [37 57 44]]]\n",
      "\n",
      "\n",
      " [[[15 60 31]\n",
      "   [54  4 72]\n",
      "   [16 64 26]]\n",
      "\n",
      "  [[ 5 79 35]\n",
      "   [52 32 20]\n",
      "   [23 88 53]]\n",
      "\n",
      "  [[71 54  2]\n",
      "   [84 90 36]\n",
      "   [10 84 33]]]]\n"
     ]
    }
   ],
   "source": [
    "# Copying a numpy array\n",
    "copy_3d = np.copy(array_3d)\n",
    "copy_4d = np.copy(array_4d)\n",
    "\n",
    "print(\"Copied 3D Array:\\n\", copy_3d)\n",
    "print(\"Copied 4D Array:\\n\", copy_4d)"
   ]
  }
 ],
 "metadata": {
  "kernelspec": {
   "display_name": "dsclass",
   "language": "python",
   "name": "dsclass"
  },
  "language_info": {
   "codemirror_mode": {
    "name": "ipython",
    "version": 3
   },
   "file_extension": ".py",
   "mimetype": "text/x-python",
   "name": "python",
   "nbconvert_exporter": "python",
   "pygments_lexer": "ipython3",
   "version": "3.12.4"
  }
 },
 "nbformat": 4,
 "nbformat_minor": 5
}
